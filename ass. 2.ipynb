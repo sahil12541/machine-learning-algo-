{
 "cells": [
  {
   "cell_type": "code",
   "execution_count": 1,
   "metadata": {},
   "outputs": [
    {
     "name": "stdout",
     "output_type": "stream",
     "text": [
      "1 \n",
      "1 1 \n",
      "1 2 1 \n",
      "1 3 3 1 \n",
      "1 4 6 4 1 \n"
     ]
    }
   ],
   "source": [
    "#Write a function pascals_triangle(rows) that prints the first rows ofPascal's Triangle using nested for loops.\n",
    "#pascals_triangle(5) Output:\n",
    "#1\n",
    "#1 1\n",
    "#1 2 1\n",
    "#1 3 3 1\n",
    "#1 4 6 4 1\n",
    "def pascals_triangle(rows):\n",
    "    for i in range(rows):\n",
    "        num = 1  # First element of each row is always 1\n",
    "        for j in range(i + 1):\n",
    "            print(num, end=\" \")  # Print the number with a space\n",
    "            num = num * (i - j) // (j + 1)  # Compute next value using nCr formula\n",
    "        print()  # Move to the next line\n",
    "\n",
    "# Call function with 5 rows\n",
    "pascals_triangle(5)"
   ]
  },
  {
   "cell_type": "code",
   "execution_count": 2,
   "metadata": {},
   "outputs": [
    {
     "name": "stdout",
     "output_type": "stream",
     "text": [
      "15\n",
      "33\n",
      "45\n",
      "60\n",
      "75\n"
     ]
    }
   ],
   "source": [
    "#Explain how the `continue` statement works in a loop. What are some scenarios where using`continue` is more beneficial than restructuring\n",
    "#the loop Coding Challenge: Write a Python program that iterates through list of numbers and prints only those numbers that are divisible by 3, using\n",
    "#the `continue` statement.\n",
    "numbers = [10, 15, 22, 33, 40, 45, 50, 60, 75, 80]\n",
    "\n",
    "for num in numbers:\n",
    "    if num % 3 != 0:  # If the number is NOT divisible by 3\n",
    "        continue  # Skip this number and move to the next iteration\n",
    "    print(num)  # Print only numbers divisible by 3"
   ]
  },
  {
   "cell_type": "code",
   "execution_count": 3,
   "metadata": {},
   "outputs": [
    {
     "name": "stdout",
     "output_type": "stream",
     "text": [
      "(3, 4, 5)\n",
      "(5, 12, 13)\n",
      "(7, 24, 25)\n",
      "(8, 6, 10)\n",
      "(9, 40, 41)\n",
      "(12, 16, 20)\n",
      "(15, 8, 17)\n",
      "(16, 30, 34)\n",
      "(21, 20, 29)\n",
      "(24, 10, 26)\n",
      "(27, 36, 45)\n",
      "(32, 24, 40)\n",
      "(35, 12, 37)\n",
      "(48, 14, 50)\n"
     ]
    }
   ],
   "source": [
    "#Use list comprehension to generate all Pythagorean triplets (a, b, c)where a2 + b2 = c² and a, b, c s 50.\n",
    "triplets = []\n",
    "\n",
    "for m in range(1, 10):  # Choose an appropriate range for m\n",
    "    for n in range(1, m):  # n should always be less than m\n",
    "        a = m**2 - n**2\n",
    "        b = 2 * m * n\n",
    "        c = m**2 + n**2\n",
    "\n",
    "        if c <= 50:  # Limit c to 50\n",
    "            triplets.append((a, b, c))\n",
    "\n",
    "# Sort and print the triplets\n",
    "triplets.sort()\n",
    "for triplet in triplets:\n",
    "    print(triplet)"
   ]
  },
  {
   "cell_type": "code",
   "execution_count": 4,
   "metadata": {},
   "outputs": [
    {
     "name": "stdout",
     "output_type": "stream",
     "text": [
      "18\n"
     ]
    }
   ],
   "source": [
    "#Write a function max_consecutive_sum(nums, k) that finds the maximum sum of k consecutive elements in a list.\n",
    "def max_consecutive_sum(nums, k):\n",
    "    if len(nums) < k or k <= 0:  # Edge case handling\n",
    "        return None  \n",
    "\n",
    "    # Compute the sum of the first window of size k\n",
    "    max_sum = current_sum = sum(nums[:k])\n",
    "\n",
    "    # Slide the window across the list\n",
    "    for i in range(k, len(nums)):\n",
    "        current_sum += nums[i] - nums[i - k]  # Add next element, remove first element of previous window\n",
    "        max_sum = max(max_sum, current_sum)  # Update max sum if needed\n",
    "\n",
    "    return max_sum\n",
    "\n",
    "# Example Usage\n",
    "nums = [2, 1, 5, 1, 3, 2, 8, 1, 9]\n",
    "k = 3\n",
    "print(max_consecutive_sum(nums, k))  # Output: 18 (sum of [8,1,9])"
   ]
  },
  {
   "cell_type": "code",
   "execution_count": 5,
   "metadata": {},
   "outputs": [
    {
     "name": "stdout",
     "output_type": "stream",
     "text": [
      "Before function call: [1, 2, 3]\n",
      "Inside function: [1, 2, 3, 'new item']\n",
      "After function call: [1, 2, 3, 'new item']\n"
     ]
    }
   ],
   "source": [
    "#Write a function that takes a list as an argument and modifies it by appending a new item. Demonstrate how changes to the list inside the function affect the list outside the function.\n",
    "def modify_list(my_list):\n",
    "    my_list.append(\"new item\")  # Append an item to the list\n",
    "    print(\"Inside function:\", my_list)  # Check the modified list inside the function\n",
    "\n",
    "# Example usage\n",
    "original_list = [1, 2, 3]\n",
    "print(\"Before function call:\", original_list)\n",
    "\n",
    "modify_list(original_list)  # Pass the list to the function\n",
    "\n",
    "print(\"After function call:\", original_list)  # The original list is modified"
   ]
  },
  {
   "cell_type": "code",
   "execution_count": 10,
   "metadata": {},
   "outputs": [
    {
     "name": "stdout",
     "output_type": "stream",
     "text": [
      "Fibonacci Sequence: [0, 1, 1, 2, 3, 5, 8]\n"
     ]
    }
   ],
   "source": [
    "#Take a number as input and print the Fibonacci sequence up to that many terms using User-defined functions.\n",
    "def fibonacci(n):\n",
    "    if n <= 0:\n",
    "        print(\"Please enter a positive integer.\")\n",
    "        return\n",
    "    fib_seq = [0, 1]  # First two terms\n",
    "    for i in range(2, n):\n",
    "        fib_seq.append(fib_seq[i-1] + fib_seq[i-2])  # Compute next term\n",
    "    print(\"Fibonacci Sequence:\", fib_seq[:n])  # Print up to 'n' terms\n",
    "\n",
    "# Taking user input\n",
    "num_terms = int(input(\"Enter the number of terms: \"))\n",
    "fibonacci(num_terms)"
   ]
  }
 ],
 "metadata": {
  "kernelspec": {
   "display_name": "Python 3",
   "language": "python",
   "name": "python3"
  },
  "language_info": {
   "codemirror_mode": {
    "name": "ipython",
    "version": 3
   },
   "file_extension": ".py",
   "mimetype": "text/x-python",
   "name": "python",
   "nbconvert_exporter": "python",
   "pygments_lexer": "ipython3",
   "version": "3.13.2"
  }
 },
 "nbformat": 4,
 "nbformat_minor": 2
}
