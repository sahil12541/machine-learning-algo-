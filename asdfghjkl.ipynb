{
 "cells": [
  {
   "cell_type": "code",
   "execution_count": 2,
   "metadata": {},
   "outputs": [
    {
     "name": "stdout",
     "output_type": "stream",
     "text": [
      "Fail\n"
     ]
    }
   ],
   "source": [
    "##Questions 1 Write a program that asks the user to enter their marks and displays their grade: • 90-100: A • 80-89: B • 70-79:C • 60-69: D Below 60: F \n",
    "\n",
    "marks = int(input(\"Enter the marks: \"))\n",
    "\n",
    "if 90 <= marks <= 100: \n",
    "    print(\"A\") \n",
    "elif 80 <= marks < 90: \n",
    "    print(\"B\") \n",
    "elif 70 <= marks < 80: \n",
    "    print(\"C\") \n",
    "elif 60 <= marks < 70: \n",
    "    print(\"D\") \n",
    "else:\n",
    "    print(\"Fail\")"
   ]
  },
  {
   "cell_type": "code",
   "execution_count": 6,
   "metadata": {},
   "outputs": [
    {
     "name": "stdout",
     "output_type": "stream",
     "text": [
      "this is not aleap year\n"
     ]
    }
   ],
   "source": [
    "\n",
    "#Questions 2 Write a Python program to check if a given year is a leap year or not.\n",
    "year=int(input(\"enter the year : \") )\n",
    "if(year%4==0):\n",
    "    if(year%100==0):\n",
    "        if (year%400==0):\n",
    "            print(\"this is a leap year\")\n",
    "\n",
    "        else:\n",
    "            print(\"this is not leap year\")\n",
    "    else:\n",
    "        print(\"this is a leap year\")\n",
    "else: \n",
    "    print(\"this is not aleap year\") "
   ]
  },
  {
   "cell_type": "code",
   "execution_count": 9,
   "metadata": {},
   "outputs": [
    {
     "name": "stdout",
     "output_type": "stream",
     "text": [
      "15\n"
     ]
    }
   ],
   "source": [
    "#Questions 3 Take a number and use the += operator to increase its value\n",
    "a=10\n",
    "a+=5\n",
    "print(a)"
   ]
  },
  {
   "cell_type": "code",
   "execution_count": null,
   "metadata": {},
   "outputs": [],
   "source": [
    "Questions 4 Explain how Python handles type conversion between different data types, such as between integers and floats or between strings and lists. Python handles type conversion in two ways:\n",
    "\n",
    "1. Implicit Type Conversion (Automatic) Python automatically converts one data type into another when it makes sense mathematically or logically.\n",
    "\n",
    "Example:\n",
    "x = 5      # Integer\n",
    "y = 2.5    # Float\n",
    "result = x + y  # x is implicitly converted to float\n",
    "print(result)   \n",
    "\n",
    "\n",
    "### **2. Explicit Type Conversion (Type Casting)**\n",
    "If Python does not automatically convert data types, you can use built-in functions to convert types manually.\n",
    "\n",
    "#### **Common Type Conversion Functions**\n",
    "| Function  | Converts To |\n",
    "|-----------|------------|\n",
    "| `int(x)`  | Integer    |\n",
    "| `float(x)` | Float     |\n",
    "| `str(x)`  | String     |\n",
    "| `list(x)` | List       |\n",
    "| `tuple(x)` | Tuple     |\n",
    "| `set(x)`  | Set       |\n",
    "| `dict(x)` | Dictionary (from key-value pairs) |\n",
    "\n",
    "#### **Examples:**\n",
    "\n",
    "##### **Integer to Float Conversion**\n",
    "```python\n",
    "num = 10\n",
    "converted_num = float(num)\n",
    "print(converted_num)  # Output: 10.0\n",
    "String to Integer Conversion\n",
    "s = \"123\"\n",
    "num = int(s)\n",
    "print(num)  # Output: 123\n",
    "(Note: This works only if the string contains valid numeric characters.)\n",
    "\n",
    "List to String Conversion\n",
    "lst = ['H', 'e', 'l', 'l', 'o']\n",
    "s = ''.join(lst)  # Joins list elements into a string\n",
    "print(s)  # Output: Hello\n",
    "String to List Conversion\n",
    "s = \"Hello\"\n",
    "lst = list(s)\n",
    "print(lst)  # Output: ['H', 'e', 'l', 'l', 'o']\n",
    "Tuple to List Conversion\n",
    "tup = (1, 2, 3)\n",
    "lst = list(tup)\n",
    "print(lst)  # Output: [1, 2, 3]\n",
    "List to Tuple Conversion\n",
    "lst = [1, 2, 3]\n",
    "tup = tuple(lst)\n",
    "print(tup)  # Output: (1, 2, 3)"
   ]
  },
  {
   "cell_type": "code",
   "execution_count": null,
   "metadata": {},
   "outputs": [],
   "source": [
    "Questions 5 How do lists and tuples differ in terms of mutability performance? When would you choose one over the other?\n",
    "\n",
    "1. Mutability: Lists vs. Tuples\n",
    "Lists are mutable, meaning you can modify, add, or remove elements after creation.\n",
    "Tuples are immutable, meaning once created, they cannot be changed (no adding, removing, or modifying elements).\n",
    "\n",
    "2. Performance: Lists vs. Tuples\n",
    "Tuples are faster than lists because they are immutable and do not require dynamic memory allocation.\n",
    "Lists are slower because they support operations like appending, inserting, and resizing, which require extra processing."
   ]
  }
 ],
 "metadata": {
  "kernelspec": {
   "display_name": "Python 3",
   "language": "python",
   "name": "python3"
  },
  "language_info": {
   "codemirror_mode": {
    "name": "ipython",
    "version": 3
   },
   "file_extension": ".py",
   "mimetype": "text/x-python",
   "name": "python",
   "nbconvert_exporter": "python",
   "pygments_lexer": "ipython3",
   "version": "3.13.2"
  }
 },
 "nbformat": 4,
 "nbformat_minor": 2
}
